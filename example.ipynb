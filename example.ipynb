{
 "cells": [
  {
   "cell_type": "code",
   "id": "initial_id",
   "metadata": {
    "collapsed": true,
    "ExecuteTime": {
     "end_time": "2024-07-27T17:49:57.286908Z",
     "start_time": "2024-07-27T17:49:57.274153Z"
    }
   },
   "source": [
    "import pandas as pd\n",
    "\n",
    "column_names = ['id', 'date', 'vendor_name', 'amount', 'currency', 'item_description', 'gl_code', 'gl_description']\n",
    "df = pd.read_csv('transactions.csv', names=column_names, header=0)\n",
    "df.head()"
   ],
   "outputs": [
    {
     "data": {
      "text/plain": [
       "   id        date                     vendor_name   amount currency  \\\n",
       "0   2  2022-11-06                     Harding Inc  4621.52      AUD   \n",
       "1   3  2024-01-22                       Meyer LLC  4478.16      USD   \n",
       "2   4  2023-07-12  Sandoval, Gallagher and Kelley  1349.55      JPY   \n",
       "3   5  2024-04-23                      Mooney PLC  2785.77      GBP   \n",
       "4   6  2024-07-11                 Duncan and Sons  2759.27      GBP   \n",
       "\n",
       "                            item_description   gl_code gl_description  \n",
       "0  Answer account which exist reality share.  25202669         Travel  \n",
       "1      Year important account despite alone.  44034427       Shopping  \n",
       "2                        Find which boy try.  92539337         Travel  \n",
       "3      We author this compare small purpose.  20214377         Travel  \n",
       "4           Wall eight crime daughter prove.  83986396         Travel  "
      ],
      "text/html": [
       "<div>\n",
       "<style scoped>\n",
       "    .dataframe tbody tr th:only-of-type {\n",
       "        vertical-align: middle;\n",
       "    }\n",
       "\n",
       "    .dataframe tbody tr th {\n",
       "        vertical-align: top;\n",
       "    }\n",
       "\n",
       "    .dataframe thead th {\n",
       "        text-align: right;\n",
       "    }\n",
       "</style>\n",
       "<table border=\"1\" class=\"dataframe\">\n",
       "  <thead>\n",
       "    <tr style=\"text-align: right;\">\n",
       "      <th></th>\n",
       "      <th>id</th>\n",
       "      <th>date</th>\n",
       "      <th>vendor_name</th>\n",
       "      <th>amount</th>\n",
       "      <th>currency</th>\n",
       "      <th>item_description</th>\n",
       "      <th>gl_code</th>\n",
       "      <th>gl_description</th>\n",
       "    </tr>\n",
       "  </thead>\n",
       "  <tbody>\n",
       "    <tr>\n",
       "      <th>0</th>\n",
       "      <td>2</td>\n",
       "      <td>2022-11-06</td>\n",
       "      <td>Harding Inc</td>\n",
       "      <td>4621.52</td>\n",
       "      <td>AUD</td>\n",
       "      <td>Answer account which exist reality share.</td>\n",
       "      <td>25202669</td>\n",
       "      <td>Travel</td>\n",
       "    </tr>\n",
       "    <tr>\n",
       "      <th>1</th>\n",
       "      <td>3</td>\n",
       "      <td>2024-01-22</td>\n",
       "      <td>Meyer LLC</td>\n",
       "      <td>4478.16</td>\n",
       "      <td>USD</td>\n",
       "      <td>Year important account despite alone.</td>\n",
       "      <td>44034427</td>\n",
       "      <td>Shopping</td>\n",
       "    </tr>\n",
       "    <tr>\n",
       "      <th>2</th>\n",
       "      <td>4</td>\n",
       "      <td>2023-07-12</td>\n",
       "      <td>Sandoval, Gallagher and Kelley</td>\n",
       "      <td>1349.55</td>\n",
       "      <td>JPY</td>\n",
       "      <td>Find which boy try.</td>\n",
       "      <td>92539337</td>\n",
       "      <td>Travel</td>\n",
       "    </tr>\n",
       "    <tr>\n",
       "      <th>3</th>\n",
       "      <td>5</td>\n",
       "      <td>2024-04-23</td>\n",
       "      <td>Mooney PLC</td>\n",
       "      <td>2785.77</td>\n",
       "      <td>GBP</td>\n",
       "      <td>We author this compare small purpose.</td>\n",
       "      <td>20214377</td>\n",
       "      <td>Travel</td>\n",
       "    </tr>\n",
       "    <tr>\n",
       "      <th>4</th>\n",
       "      <td>6</td>\n",
       "      <td>2024-07-11</td>\n",
       "      <td>Duncan and Sons</td>\n",
       "      <td>2759.27</td>\n",
       "      <td>GBP</td>\n",
       "      <td>Wall eight crime daughter prove.</td>\n",
       "      <td>83986396</td>\n",
       "      <td>Travel</td>\n",
       "    </tr>\n",
       "  </tbody>\n",
       "</table>\n",
       "</div>"
      ]
     },
     "execution_count": 6,
     "metadata": {},
     "output_type": "execute_result"
    }
   ],
   "execution_count": 6
  }
 ],
 "metadata": {
  "kernelspec": {
   "display_name": "Python 3",
   "language": "python",
   "name": "python3"
  },
  "language_info": {
   "codemirror_mode": {
    "name": "ipython",
    "version": 2
   },
   "file_extension": ".py",
   "mimetype": "text/x-python",
   "name": "python",
   "nbconvert_exporter": "python",
   "pygments_lexer": "ipython2",
   "version": "2.7.6"
  }
 },
 "nbformat": 4,
 "nbformat_minor": 5
}
